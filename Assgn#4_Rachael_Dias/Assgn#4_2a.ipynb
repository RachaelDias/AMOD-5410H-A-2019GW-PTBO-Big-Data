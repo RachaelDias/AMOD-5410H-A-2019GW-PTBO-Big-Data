{
 "cells": [
  {
   "cell_type": "code",
   "execution_count": 4,
   "metadata": {},
   "outputs": [
    {
     "name": "stdout",
     "output_type": "stream",
     "text": [
      "1.13.1\n"
     ]
    }
   ],
   "source": [
    "from __future__ import absolute_import, division, print_function\n",
    "\n",
    "import tensorflow as tf\n",
    "from tensorflow import keras\n",
    "\n",
    "import numpy as np\n",
    "\n",
    "print(tf.__version__)"
   ]
  },
  {
   "cell_type": "code",
   "execution_count": 5,
   "metadata": {},
   "outputs": [],
   "source": [
    "imdb = keras.datasets.imdb\n",
    "\n",
    "(train_data, train_labels), (test_data, test_labels) = imdb.load_data(num_words=10000)"
   ]
  },
  {
   "cell_type": "code",
   "execution_count": 6,
   "metadata": {},
   "outputs": [
    {
     "name": "stdout",
     "output_type": "stream",
     "text": [
      "Training entries: 25000, labels: 25000\n"
     ]
    }
   ],
   "source": [
    "print(\"Training entries: {}, labels: {}\".format(len(train_data), len(train_labels)))"
   ]
  },
  {
   "cell_type": "code",
   "execution_count": 7,
   "metadata": {},
   "outputs": [
    {
     "name": "stdout",
     "output_type": "stream",
     "text": [
      "[1, 14, 22, 16, 43, 530, 973, 1622, 1385, 65, 458, 4468, 66, 3941, 4, 173, 36, 256, 5, 25, 100, 43, 838, 112, 50, 670, 2, 9, 35, 480, 284, 5, 150, 4, 172, 112, 167, 2, 336, 385, 39, 4, 172, 4536, 1111, 17, 546, 38, 13, 447, 4, 192, 50, 16, 6, 147, 2025, 19, 14, 22, 4, 1920, 4613, 469, 4, 22, 71, 87, 12, 16, 43, 530, 38, 76, 15, 13, 1247, 4, 22, 17, 515, 17, 12, 16, 626, 18, 2, 5, 62, 386, 12, 8, 316, 8, 106, 5, 4, 2223, 5244, 16, 480, 66, 3785, 33, 4, 130, 12, 16, 38, 619, 5, 25, 124, 51, 36, 135, 48, 25, 1415, 33, 6, 22, 12, 215, 28, 77, 52, 5, 14, 407, 16, 82, 2, 8, 4, 107, 117, 5952, 15, 256, 4, 2, 7, 3766, 5, 723, 36, 71, 43, 530, 476, 26, 400, 317, 46, 7, 4, 2, 1029, 13, 104, 88, 4, 381, 15, 297, 98, 32, 2071, 56, 26, 141, 6, 194, 7486, 18, 4, 226, 22, 21, 134, 476, 26, 480, 5, 144, 30, 5535, 18, 51, 36, 28, 224, 92, 25, 104, 4, 226, 65, 16, 38, 1334, 88, 12, 16, 283, 5, 16, 4472, 113, 103, 32, 15, 16, 5345, 19, 178, 32]\n"
     ]
    }
   ],
   "source": [
    "print(train_data[0])"
   ]
  },
  {
   "cell_type": "code",
   "execution_count": 8,
   "metadata": {},
   "outputs": [
    {
     "data": {
      "text/plain": [
       "(218, 189)"
      ]
     },
     "execution_count": 8,
     "metadata": {},
     "output_type": "execute_result"
    }
   ],
   "source": [
    "len(train_data[0]), len(train_data[1])"
   ]
  },
  {
   "cell_type": "code",
   "execution_count": 9,
   "metadata": {},
   "outputs": [],
   "source": [
    "# A dictionary mapping words to an integer index\n",
    "word_index = imdb.get_word_index()\n",
    "\n",
    "# The first indices are reserved\n",
    "word_index = {k:(v+3) for k,v in word_index.items()} \n",
    "word_index[\"<PAD>\"] = 0\n",
    "word_index[\"<START>\"] = 1\n",
    "word_index[\"<UNK>\"] = 2  # unknown\n",
    "word_index[\"<UNUSED>\"] = 3\n",
    "\n",
    "reverse_word_index = dict([(value, key) for (key, value) in word_index.items()])\n",
    "\n",
    "def decode_review(text):\n",
    "    return ' '.join([reverse_word_index.get(i, '?') for i in text])"
   ]
  },
  {
   "cell_type": "code",
   "execution_count": 10,
   "metadata": {},
   "outputs": [
    {
     "data": {
      "text/plain": [
       "\"<START> this film was just brilliant casting location scenery story direction everyone's really suited the part they played and you could just imagine being there robert <UNK> is an amazing actor and now the same being director <UNK> father came from the same scottish island as myself so i loved the fact there was a real connection with this film the witty remarks throughout the film were great it was just brilliant so much that i bought the film as soon as it was released for <UNK> and would recommend it to everyone to watch and the fly fishing was amazing really cried at the end it was so sad and you know what they say if you cry at a film it must have been good and this definitely was also <UNK> to the two little boy's that played the <UNK> of norman and paul they were just brilliant children are often left out of the <UNK> list i think because the stars that play them all grown up are such a big profile for the whole film but these children are amazing and should be praised for what they have done don't you think the whole story was so lovely because it was true and was someone's life after all that was shared with us all\""
      ]
     },
     "execution_count": 10,
     "metadata": {},
     "output_type": "execute_result"
    }
   ],
   "source": [
    "decode_review(train_data[0])"
   ]
  },
  {
   "cell_type": "code",
   "execution_count": 11,
   "metadata": {},
   "outputs": [],
   "source": [
    "train_data = keras.preprocessing.sequence.pad_sequences(train_data,\n",
    "                                                        value=word_index[\"<PAD>\"],\n",
    "                                                        padding='post',\n",
    "                                                        maxlen=256)\n",
    "\n",
    "test_data = keras.preprocessing.sequence.pad_sequences(test_data,\n",
    "                                                       value=word_index[\"<PAD>\"],\n",
    "                                                       padding='post',\n",
    "                                                       maxlen=256)"
   ]
  },
  {
   "cell_type": "code",
   "execution_count": 12,
   "metadata": {},
   "outputs": [
    {
     "data": {
      "text/plain": [
       "(256, 256)"
      ]
     },
     "execution_count": 12,
     "metadata": {},
     "output_type": "execute_result"
    }
   ],
   "source": [
    "len(train_data[0]), len(train_data[1])"
   ]
  },
  {
   "cell_type": "code",
   "execution_count": 13,
   "metadata": {},
   "outputs": [
    {
     "name": "stdout",
     "output_type": "stream",
     "text": [
      "[   1   14   22   16   43  530  973 1622 1385   65  458 4468   66 3941\n",
      "    4  173   36  256    5   25  100   43  838  112   50  670    2    9\n",
      "   35  480  284    5  150    4  172  112  167    2  336  385   39    4\n",
      "  172 4536 1111   17  546   38   13  447    4  192   50   16    6  147\n",
      " 2025   19   14   22    4 1920 4613  469    4   22   71   87   12   16\n",
      "   43  530   38   76   15   13 1247    4   22   17  515   17   12   16\n",
      "  626   18    2    5   62  386   12    8  316    8  106    5    4 2223\n",
      " 5244   16  480   66 3785   33    4  130   12   16   38  619    5   25\n",
      "  124   51   36  135   48   25 1415   33    6   22   12  215   28   77\n",
      "   52    5   14  407   16   82    2    8    4  107  117 5952   15  256\n",
      "    4    2    7 3766    5  723   36   71   43  530  476   26  400  317\n",
      "   46    7    4    2 1029   13  104   88    4  381   15  297   98   32\n",
      " 2071   56   26  141    6  194 7486   18    4  226   22   21  134  476\n",
      "   26  480    5  144   30 5535   18   51   36   28  224   92   25  104\n",
      "    4  226   65   16   38 1334   88   12   16  283    5   16 4472  113\n",
      "  103   32   15   16 5345   19  178   32    0    0    0    0    0    0\n",
      "    0    0    0    0    0    0    0    0    0    0    0    0    0    0\n",
      "    0    0    0    0    0    0    0    0    0    0    0    0    0    0\n",
      "    0    0    0    0]\n"
     ]
    }
   ],
   "source": [
    "print(train_data[0])\n"
   ]
  },
  {
   "cell_type": "code",
   "execution_count": 14,
   "metadata": {},
   "outputs": [
    {
     "name": "stdout",
     "output_type": "stream",
     "text": [
      "WARNING:tensorflow:From C:\\Users\\17059\\Anaconda3\\lib\\site-packages\\tensorflow\\python\\ops\\resource_variable_ops.py:435: colocate_with (from tensorflow.python.framework.ops) is deprecated and will be removed in a future version.\n",
      "Instructions for updating:\n",
      "Colocations handled automatically by placer.\n",
      "_________________________________________________________________\n",
      "Layer (type)                 Output Shape              Param #   \n",
      "=================================================================\n",
      "embedding (Embedding)        (None, None, 16)          160000    \n",
      "_________________________________________________________________\n",
      "global_average_pooling1d (Gl (None, 16)                0         \n",
      "_________________________________________________________________\n",
      "dense (Dense)                (None, 16)                272       \n",
      "_________________________________________________________________\n",
      "dense_1 (Dense)              (None, 1)                 17        \n",
      "=================================================================\n",
      "Total params: 160,289\n",
      "Trainable params: 160,289\n",
      "Non-trainable params: 0\n",
      "_________________________________________________________________\n"
     ]
    }
   ],
   "source": [
    "# input shape is the vocabulary count used for the movie reviews (10,000 words)\n",
    "vocab_size = 10000\n",
    "\n",
    "model = keras.Sequential()\n",
    "model.add(keras.layers.Embedding(vocab_size, 16))\n",
    "model.add(keras.layers.GlobalAveragePooling1D())\n",
    "model.add(keras.layers.Dense(16, activation=tf.nn.relu))\n",
    "model.add(keras.layers.Dense(1, activation=tf.nn.sigmoid))\n",
    "\n",
    "model.summary()"
   ]
  },
  {
   "cell_type": "code",
   "execution_count": 15,
   "metadata": {},
   "outputs": [],
   "source": [
    "model.compile(optimizer='adam',\n",
    "              loss='binary_crossentropy',\n",
    "              metrics=['acc'])"
   ]
  },
  {
   "cell_type": "code",
   "execution_count": 16,
   "metadata": {},
   "outputs": [],
   "source": [
    "x_val = train_data[:10000]\n",
    "partial_x_train = train_data[10000:]\n",
    "\n",
    "y_val = train_labels[:10000]\n",
    "partial_y_train = train_labels[10000:]"
   ]
  },
  {
   "cell_type": "code",
   "execution_count": 17,
   "metadata": {},
   "outputs": [
    {
     "name": "stdout",
     "output_type": "stream",
     "text": [
      "Train on 15000 samples, validate on 10000 samples\n",
      "WARNING:tensorflow:From C:\\Users\\17059\\Anaconda3\\lib\\site-packages\\tensorflow\\python\\ops\\math_ops.py:3066: to_int32 (from tensorflow.python.ops.math_ops) is deprecated and will be removed in a future version.\n",
      "Instructions for updating:\n",
      "Use tf.cast instead.\n",
      "Epoch 1/40\n",
      "15000/15000 [==============================] - 2s 123us/sample - loss: 0.6919 - acc: 0.5885 - val_loss: 0.6900 - val_acc: 0.6800\n",
      "Epoch 2/40\n",
      "15000/15000 [==============================] - 1s 84us/sample - loss: 0.6862 - acc: 0.6579 - val_loss: 0.6811 - val_acc: 0.6827\n",
      "Epoch 3/40\n",
      "15000/15000 [==============================] - 1s 82us/sample - loss: 0.6714 - acc: 0.7094 - val_loss: 0.6618 - val_acc: 0.7275\n",
      "Epoch 4/40\n",
      "15000/15000 [==============================] - 1s 79us/sample - loss: 0.6454 - acc: 0.7525 - val_loss: 0.6326 - val_acc: 0.7415\n",
      "Epoch 5/40\n",
      "15000/15000 [==============================] - 1s 76us/sample - loss: 0.6093 - acc: 0.7804 - val_loss: 0.5958 - val_acc: 0.7843\n",
      "Epoch 6/40\n",
      "15000/15000 [==============================] - 1s 79us/sample - loss: 0.5656 - acc: 0.8120 - val_loss: 0.5532 - val_acc: 0.8123\n",
      "Epoch 7/40\n",
      "15000/15000 [==============================] - 1s 77us/sample - loss: 0.5178 - acc: 0.8360 - val_loss: 0.5097 - val_acc: 0.8278\n",
      "Epoch 8/40\n",
      "15000/15000 [==============================] - 1s 79us/sample - loss: 0.4712 - acc: 0.8586 - val_loss: 0.4701 - val_acc: 0.8422\n",
      "Epoch 9/40\n",
      "15000/15000 [==============================] - 1s 80us/sample - loss: 0.4287 - acc: 0.8706 - val_loss: 0.4353 - val_acc: 0.8509\n",
      "Epoch 10/40\n",
      "15000/15000 [==============================] - 1s 87us/sample - loss: 0.3911 - acc: 0.8817 - val_loss: 0.4064 - val_acc: 0.8562\n",
      "Epoch 11/40\n",
      "15000/15000 [==============================] - 1s 81us/sample - loss: 0.3586 - acc: 0.8907 - val_loss: 0.3821 - val_acc: 0.8646\n",
      "Epoch 12/40\n",
      "15000/15000 [==============================] - 1s 75us/sample - loss: 0.3310 - acc: 0.8970 - val_loss: 0.3622 - val_acc: 0.8680\n",
      "Epoch 13/40\n",
      "15000/15000 [==============================] - 1s 75us/sample - loss: 0.3077 - acc: 0.9022 - val_loss: 0.3457 - val_acc: 0.8726\n",
      "Epoch 14/40\n",
      "15000/15000 [==============================] - 1s 82us/sample - loss: 0.2866 - acc: 0.9079 - val_loss: 0.3328 - val_acc: 0.8753\n",
      "Epoch 15/40\n",
      "15000/15000 [==============================] - 1s 80us/sample - loss: 0.2691 - acc: 0.9119 - val_loss: 0.3230 - val_acc: 0.8764\n",
      "Epoch 16/40\n",
      "15000/15000 [==============================] - 1s 75us/sample - loss: 0.2530 - acc: 0.9170 - val_loss: 0.3140 - val_acc: 0.8783\n",
      "Epoch 17/40\n",
      "15000/15000 [==============================] - 1s 80us/sample - loss: 0.2383 - acc: 0.9223 - val_loss: 0.3068 - val_acc: 0.8802\n",
      "Epoch 18/40\n",
      "15000/15000 [==============================] - 1s 77us/sample - loss: 0.2255 - acc: 0.9253 - val_loss: 0.3018 - val_acc: 0.8810\n",
      "Epoch 19/40\n",
      "15000/15000 [==============================] - 1s 73us/sample - loss: 0.2139 - acc: 0.9296 - val_loss: 0.2963 - val_acc: 0.8832\n",
      "Epoch 20/40\n",
      "15000/15000 [==============================] - 1s 73us/sample - loss: 0.2035 - acc: 0.9337 - val_loss: 0.2923 - val_acc: 0.8838\n",
      "Epoch 21/40\n",
      "15000/15000 [==============================] - 1s 75us/sample - loss: 0.1928 - acc: 0.9389 - val_loss: 0.2893 - val_acc: 0.8841\n",
      "Epoch 22/40\n",
      "15000/15000 [==============================] - 1s 81us/sample - loss: 0.1840 - acc: 0.9429 - val_loss: 0.2879 - val_acc: 0.8858\n",
      "Epoch 23/40\n",
      "15000/15000 [==============================] - 1s 85us/sample - loss: 0.1753 - acc: 0.9455 - val_loss: 0.2871 - val_acc: 0.8840\n",
      "Epoch 24/40\n",
      "15000/15000 [==============================] - 1s 82us/sample - loss: 0.1677 - acc: 0.9485 - val_loss: 0.2848 - val_acc: 0.8848\n",
      "Epoch 25/40\n",
      "15000/15000 [==============================] - 1s 74us/sample - loss: 0.1601 - acc: 0.9515 - val_loss: 0.2846 - val_acc: 0.8856\n",
      "Epoch 26/40\n",
      "15000/15000 [==============================] - 1s 73us/sample - loss: 0.1531 - acc: 0.9545 - val_loss: 0.2856 - val_acc: 0.8833\n",
      "Epoch 27/40\n",
      "15000/15000 [==============================] - 1s 76us/sample - loss: 0.1467 - acc: 0.9573 - val_loss: 0.2849 - val_acc: 0.8854\n",
      "Epoch 28/40\n",
      "15000/15000 [==============================] - 1s 87us/sample - loss: 0.1407 - acc: 0.9593 - val_loss: 0.2855 - val_acc: 0.8842\n",
      "Epoch 29/40\n",
      "15000/15000 [==============================] - 1s 77us/sample - loss: 0.1352 - acc: 0.9613 - val_loss: 0.2880 - val_acc: 0.8841\n",
      "Epoch 30/40\n",
      "15000/15000 [==============================] - 1s 74us/sample - loss: 0.1294 - acc: 0.9635 - val_loss: 0.2878 - val_acc: 0.8855\n",
      "Epoch 31/40\n",
      "15000/15000 [==============================] - 1s 73us/sample - loss: 0.1239 - acc: 0.9654 - val_loss: 0.2893 - val_acc: 0.8871\n",
      "Epoch 32/40\n",
      "15000/15000 [==============================] - 1s 73us/sample - loss: 0.1189 - acc: 0.9679 - val_loss: 0.2914 - val_acc: 0.8862\n",
      "Epoch 33/40\n",
      "15000/15000 [==============================] - 1s 74us/sample - loss: 0.1142 - acc: 0.9694 - val_loss: 0.2942 - val_acc: 0.8844\n",
      "Epoch 34/40\n",
      "15000/15000 [==============================] - 1s 74us/sample - loss: 0.1100 - acc: 0.9696 - val_loss: 0.2954 - val_acc: 0.8856\n",
      "Epoch 35/40\n",
      "15000/15000 [==============================] - 1s 83us/sample - loss: 0.1056 - acc: 0.9729 - val_loss: 0.3001 - val_acc: 0.8839\n",
      "Epoch 36/40\n",
      "15000/15000 [==============================] - 1s 75us/sample - loss: 0.1016 - acc: 0.9743 - val_loss: 0.3016 - val_acc: 0.8835\n",
      "Epoch 37/40\n",
      "15000/15000 [==============================] - 1s 83us/sample - loss: 0.0976 - acc: 0.9755 - val_loss: 0.3040 - val_acc: 0.8837\n",
      "Epoch 38/40\n",
      "15000/15000 [==============================] - 1s 77us/sample - loss: 0.0940 - acc: 0.9769 - val_loss: 0.3076 - val_acc: 0.8819\n",
      "Epoch 39/40\n",
      "15000/15000 [==============================] - 1s 75us/sample - loss: 0.0908 - acc: 0.9781 - val_loss: 0.3118 - val_acc: 0.8814\n",
      "Epoch 40/40\n",
      "15000/15000 [==============================] - 1s 75us/sample - loss: 0.0870 - acc: 0.9801 - val_loss: 0.3131 - val_acc: 0.8816\n"
     ]
    }
   ],
   "source": [
    "history = model.fit(partial_x_train,\n",
    "                    partial_y_train,\n",
    "                    epochs=40,\n",
    "                    batch_size=512,\n",
    "                    validation_data=(x_val, y_val),\n",
    "                    verbose=1)"
   ]
  },
  {
   "cell_type": "code",
   "execution_count": 18,
   "metadata": {},
   "outputs": [
    {
     "name": "stdout",
     "output_type": "stream",
     "text": [
      "25000/25000 [==============================] - 1s 44us/sample - loss: 0.3359 - acc: 0.8717\n",
      "[0.3358559762096405, 0.87172]\n"
     ]
    }
   ],
   "source": [
    "results = model.evaluate(test_data, test_labels)\n",
    "\n",
    "print(results)"
   ]
  },
  {
   "cell_type": "code",
   "execution_count": 19,
   "metadata": {},
   "outputs": [
    {
     "data": {
      "text/plain": [
       "dict_keys(['loss', 'acc', 'val_loss', 'val_acc'])"
      ]
     },
     "execution_count": 19,
     "metadata": {},
     "output_type": "execute_result"
    }
   ],
   "source": [
    "history_dict = history.history\n",
    "history_dict.keys()"
   ]
  },
  {
   "cell_type": "code",
   "execution_count": 20,
   "metadata": {},
   "outputs": [
    {
     "data": {
      "text/plain": [
       "<Figure size 640x480 with 1 Axes>"
      ]
     },
     "metadata": {},
     "output_type": "display_data"
    }
   ],
   "source": [
    "import matplotlib.pyplot as plt\n",
    "\n",
    "acc = history_dict['acc']\n",
    "val_acc = history_dict['val_acc']\n",
    "loss = history_dict['loss']\n",
    "val_loss = history_dict['val_loss']\n",
    "\n",
    "epochs = range(1, len(acc) + 1)\n",
    "\n",
    "# \"bo\" is for \"blue dot\"\n",
    "plt.plot(epochs, loss, 'bo', label='Training loss')\n",
    "# b is for \"solid blue line\"\n",
    "plt.plot(epochs, val_loss, 'b', label='Validation loss')\n",
    "plt.title('Training and validation loss')\n",
    "plt.xlabel('Epochs')\n",
    "plt.ylabel('Loss')\n",
    "plt.legend()\n",
    "\n",
    "plt.show()"
   ]
  },
  {
   "cell_type": "code",
   "execution_count": 21,
   "metadata": {},
   "outputs": [
    {
     "data": {
      "image/png": "[encoded data removed]",
      "text/plain": [
       "<Figure size 432x288 with 1 Axes>"
      ]
     },
     "metadata": {
      "needs_background": "light"
     },
     "output_type": "display_data"
    }
   ],
   "source": [
    "plt.clf()   # clear figure\n",
    "\n",
    "plt.plot(epochs, acc, 'bo', label='Training acc')\n",
    "plt.plot(epochs, val_acc, 'b', label='Validation acc')\n",
    "plt.title('Training and validation accuracy')\n",
    "plt.xlabel('Epochs')\n",
    "plt.ylabel('Accuracy')\n",
    "plt.legend()\n",
    "\n",
    "plt.show()"
   ]
  },
  {
   "cell_type": "code",
   "execution_count": 22,
   "metadata": {},
   "outputs": [],
   "source": [
    "import pandas as pd\n",
    "\n",
    "df=pd.read_csv('Tweets.csv',encoding='utf-8')\n",
    "test_samples=df['text']"
   ]
  },
  {
   "cell_type": "code",
   "execution_count": 23,
   "metadata": {},
   "outputs": [
    {
     "name": "stdout",
     "output_type": "stream",
     "text": [
      "[[0.5059494 ]\n",
      " [0.44080323]\n",
      " [0.38395137]\n",
      " ...\n",
      " [0.6579601 ]\n",
      " [0.49097148]\n",
      " [0.54973114]]\n"
     ]
    }
   ],
   "source": [
    "from tensorflow.python.keras.preprocessing.text import Tokenizer\n",
    "from tensorflow.python.keras.preprocessing.sequence import pad_sequences\n",
    "\n",
    "vocabulary_size = 10000\n",
    "tokenizer = Tokenizer(num_words= vocabulary_size, filters='')\n",
    "tokenizer.fit_on_texts(test_samples)\n",
    "sequences = tokenizer.texts_to_sequences(test_samples)\n",
    "data = pad_sequences(sequences, maxlen= 256) \n",
    "pred=model.predict(x=data)\n",
    "print(pred)"
   ]
  },
  {
   "cell_type": "code",
   "execution_count": 24,
   "metadata": {},
   "outputs": [
    {
     "name": "stdout",
     "output_type": "stream",
     "text": [
      "       airline_sentiment         airline             name  \\\n",
      "0                      1  Virgin America         jnardino   \n",
      "1                      0  Virgin America         jnardino   \n",
      "2                      0  Virgin America         jnardino   \n",
      "3                      0  Virgin America         jnardino   \n",
      "4                      1  Virgin America       cjmcginnis   \n",
      "5                      1  Virgin America         dhepburn   \n",
      "6                      1  Virgin America       YupitsTate   \n",
      "7                      1  Virgin America     HyperCamiLax   \n",
      "8                      1  Virgin America     HyperCamiLax   \n",
      "9                      1  Virgin America     mollanderson   \n",
      "10                     1  Virgin America         sjespers   \n",
      "11                     0  Virgin America  smartwatermelon   \n",
      "12                     1  Virgin America    ItzBrianHunty   \n",
      "13                     0  Virgin America    heatherovieda   \n",
      "14                     1  Virgin America     thebrandiray   \n",
      "15                     1  Virgin America        JNLpierce   \n",
      "16                     0  Virgin America           MISSGJ   \n",
      "17                     1  Virgin America           DT_Les   \n",
      "18                     1  Virgin America       ElvinaBeck   \n",
      "19                     0  Virgin America      ayeevickiee   \n",
      "20                     0  Virgin America          Leora13   \n",
      "21                     0  Virgin America    meredithjlynn   \n",
      "22                     0  Virgin America  blackjackpro911   \n",
      "23                     0  Virgin America    jordanpichler   \n",
      "24                     0  Virgin America      Cuschoolie1   \n",
      "25                     0  Virgin America   amanduhmccarty   \n",
      "26                     1  Virgin America  NorthTxHomeTeam   \n",
      "27                     1  Virgin America        Nicsplace   \n",
      "28                     1  Virgin America        Nicsplace   \n",
      "29                     0  Virgin America    DannyDouglass   \n",
      "...                  ...             ...              ...   \n",
      "11511                  0        American       totestoked   \n",
      "11512                  0        American        thepin618   \n",
      "11513                  0        American      WishUpon_26   \n",
      "11514                  0        American         Jess_JCW   \n",
      "11515                  0        American         Jess_JCW   \n",
      "11516                  0        American    tcunningham10   \n",
      "11517                  0        American     kiabeveridge   \n",
      "11518                  0        American         GregPoos   \n",
      "11519                  0        American       tim_sheehy   \n",
      "11520                  0        American    TheJoshAbides   \n",
      "11521                  1        American          iambmac   \n",
      "11522                  0        American  A_for_AdNauseam   \n",
      "11523                  1        American      howiemandel   \n",
      "11524                  0        American         KCBobolz   \n",
      "11525                  0        American      andyellwood   \n",
      "11526                  0        American    Jill_Lynnette   \n",
      "11527                  1        American   Flora_Lola_NYC   \n",
      "11528                  0        American         yourlama   \n",
      "11529                  1        American   DrCaseyJRudkin   \n",
      "11530                  0        American       cataattack   \n",
      "11531                  0        American   KristinaMeyer7   \n",
      "11532                  1        American         jlhalldc   \n",
      "11533                  0        American      jontgreen89   \n",
      "11534                  1        American   Laurelinesblog   \n",
      "11535                  0        American         MDDavis7   \n",
      "11536                  0        American  RussellsWriting   \n",
      "11537                  0        American    GolfWithWoody   \n",
      "11538                  1        American  KristenReenders   \n",
      "11539                  0        American         itsropes   \n",
      "11540                  0        American       SraJackson   \n",
      "\n",
      "                                                    text  \n",
      "0      @VirginAmerica plus you've added commercials t...  \n",
      "1      @VirginAmerica it's really aggressive to blast...  \n",
      "2      @VirginAmerica and it's a really big bad thing...  \n",
      "3      @VirginAmerica seriously would pay $30 a fligh...  \n",
      "4      @VirginAmerica yes, nearly every time I fly VX...  \n",
      "5        @virginamerica Well, I didn't…but NOW I DO! :-D  \n",
      "6      @VirginAmerica it was amazing, and arrived an ...  \n",
      "7      @VirginAmerica I &lt;3 pretty graphics. so muc...  \n",
      "8      @VirginAmerica This is such a great deal! Alre...  \n",
      "9      @VirginAmerica @virginmedia I'm flying your #f...  \n",
      "10                                @VirginAmerica Thanks!  \n",
      "11         @VirginAmerica SFO-PDX schedule is still MIA.  \n",
      "12     @VirginAmerica So excited for my first cross c...  \n",
      "13     @VirginAmerica  I flew from NYC to SFO last we...  \n",
      "14                       I ❤️ flying @VirginAmerica. ☺️👍  \n",
      "15     @VirginAmerica you know what would be amazingl...  \n",
      "16     @VirginAmerica why are your first fares in May...  \n",
      "17     @VirginAmerica I love this graphic. http://t.c...  \n",
      "18     @VirginAmerica I love the hipster innovation. ...  \n",
      "19     @VirginAmerica you guys messed up my seating.....  \n",
      "20     @VirginAmerica status match program.  I applie...  \n",
      "21     @VirginAmerica What happened 2 ur vegan food o...  \n",
      "22     @VirginAmerica amazing to me that we can't get...  \n",
      "23     @VirginAmerica hi! I just bked a cool birthday...  \n",
      "24     @VirginAmerica help, left expensive headphones...  \n",
      "25     @VirginAmerica awaiting my return phone call, ...  \n",
      "26     @VirginAmerica this is great news!  America co...  \n",
      "27     @VirginAmerica Moodlighting is the only way to...  \n",
      "28     @VirginAmerica @freddieawards Done and done! B...  \n",
      "29     @VirginAmerica Your chat support is not workin...  \n",
      "...                                                  ...  \n",
      "11511  @AmericanAir trying to book a flight on hold- ...  \n",
      "11512  @AmericanAir Cancelled Flights flights arbitra...  \n",
      "11513  @AmericanAir my flight was Cancelled Flightled...  \n",
      "11514  @AmericanAir &amp; if that wasn't enough, your...  \n",
      "11515  @AmericanAir I understand the weather issue bu...  \n",
      "11516  @AmericanAir a friend is having flight Cancell...  \n",
      "11517  @AmericanAir I used the \"call back\" feature wi...  \n",
      "11518  @AmericanAir I need to be at work tomorrow at ...  \n",
      "11519  @AmericanAir  ugh Dump us in dfw w/no luggage ...  \n",
      "11520  @AmericanAir Cancelled Flights my flight, does...  \n",
      "11521            @AmericanAir DMing you now! Big thanks.  \n",
      "11522  @AmericanAir 3078 is overweight so you pull 2 ...  \n",
      "11523  @AmericanAir I love your company and your staf...  \n",
      "11524  @AmericanAir I wait 2+ hrs for CS to call me b...  \n",
      "11525  @AmericanAir I've been on hold for 55 mins abo...  \n",
      "11526  I just need a place to sleep when I land witho...  \n",
      "11527  @AmericanAir Love the new planes for the JFK-L...  \n",
      "11528  @AmericanAir Call me Chairman, or call me Emer...  \n",
      "11529  @AmericanAir Flight 236 was great. Fantastic c...  \n",
      "11530  @AmericanAir Flight 953 NYC-Buenos Aires has b...  \n",
      "11531  @AmericanAir Flight Cancelled Flightled, can't...  \n",
      "11532  Thank you. “@AmericanAir: @jlhalldc Customer R...  \n",
      "11533  @AmericanAir How do I change my flight if the ...  \n",
      "11534                        @AmericanAir Thanks! He is.  \n",
      "11535  @AmericanAir thx for nothing on getting us out...  \n",
      "11536  @AmericanAir my flight was Cancelled Flightled...  \n",
      "11537         @AmericanAir right on cue with the delays👌  \n",
      "11538  @AmericanAir thank you we got on a different f...  \n",
      "11539  @AmericanAir leaving over 20 minutes Late Flig...  \n",
      "11540  @AmericanAir you have my money, you change my ...  \n",
      "\n",
      "[11541 rows x 4 columns]\n"
     ]
    }
   ],
   "source": [
    "print(df)"
   ]
  },
  {
   "cell_type": "code",
   "execution_count": null,
   "metadata": {},
   "outputs": [],
   "source": [
    "#Sources\n",
    "https://stackoverflow.com/questions/51699001/tokenizer-texts-to-sequences-keras-tokenizer-gives-almost-all-zeros"
   ]
  }
 ],
 "metadata": {
  "kernelspec": {
   "display_name": "Python 3",
   "language": "python",
   "name": "python3"
  },
  "language_info": {
   "codemirror_mode": {
    "name": "ipython",
    "version": 3
   },
   "file_extension": ".py",
   "mimetype": "text/x-python",
   "name": "python",
   "nbconvert_exporter": "python",
   "pygments_lexer": "ipython3",
   "version": "3.7.1"
  }
 },
 "nbformat": 4,
 "nbformat_minor": 2
}

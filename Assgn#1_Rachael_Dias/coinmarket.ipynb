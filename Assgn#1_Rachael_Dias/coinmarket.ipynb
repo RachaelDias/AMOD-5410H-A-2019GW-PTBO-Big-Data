{
 "cells": [
  {
   "cell_type": "code",
   "execution_count": 1,
   "metadata": {},
   "outputs": [
    {
     "name": "stdout",
     "output_type": "stream",
     "text": [
      "[{'id': 'bitcoin', 'name': 'Bitcoin', 'symbol': 'BTC', 'rank': '1', 'price_usd': '3462.84340637', 'price_btc': '1.0', '24h_volume_usd': '6820235656.65', 'market_cap_usd': '60623867927.0', 'available_supply': '17506962.0', 'total_supply': '17506962.0', 'max_supply': '21000000.0', 'percent_change_1h': '0.09', 'percent_change_24h': '-2.56', 'percent_change_7d': '-3.08', 'last_updated': '1548730167'}, {'id': 'ripple', 'name': 'XRP', 'symbol': 'XRP', 'rank': '2', 'price_usd': '0.2939907442', 'price_btc': '0.00008496', '24h_volume_usd': '579030262.399', 'market_cap_usd': '12101678135.0', 'available_supply': '41163466448.0', 'total_supply': '99991708587.0', 'max_supply': '100000000000', 'percent_change_1h': '0.23', 'percent_change_24h': '-3.52', 'percent_change_7d': '-7.72', 'last_updated': '1548730143'}, {'id': 'ethereum', 'name': 'Ethereum', 'symbol': 'ETH', 'rank': '3', 'price_usd': '105.777221953', 'price_btc': '0.03056974', '24h_volume_usd': '3238558718.06', 'market_cap_usd': '11065619251.0', 'available_supply': '104612496.0', 'total_supply': '104612496.0', 'max_supply': None, 'percent_change_1h': '0.17', 'percent_change_24h': '-4.87', 'percent_change_7d': '-9.85', 'last_updated': '1548730159'}, {'id': 'tether', 'name': 'Tether', 'symbol': 'USDT', 'rank': '4', 'price_usd': '1.0103243777', 'price_btc': '0.00029198', '24h_volume_usd': '4845461063.45', 'market_cap_usd': '2041715197.0', 'available_supply': '2020851167.0', 'total_supply': '2580057493.0', 'max_supply': None, 'percent_change_1h': '0.03', 'percent_change_24h': '0.01', 'percent_change_7d': '-0.24', 'last_updated': '1548730151'}, {'id': 'eos', 'name': 'EOS', 'symbol': 'EOS', 'rank': '5', 'price_usd': '2.2526526725', 'price_btc': '0.00065102', '24h_volume_usd': '849516243.488', 'market_cap_usd': '2041455486.0', 'available_supply': '906245118.0', 'total_supply': '1006245120.0', 'max_supply': None, 'percent_change_1h': '0.28', 'percent_change_24h': '-4.25', 'percent_change_7d': '-4.29', 'last_updated': '1548730145'}, {'id': 'bitcoin-cash', 'name': 'Bitcoin Cash', 'symbol': 'BCH', 'rank': '6', 'price_usd': '111.109788469', 'price_btc': '0.03211086', '24h_volume_usd': '311180237.326', 'market_cap_usd': '1954629510.0', 'available_supply': '17591875.0', 'total_supply': '17591875.0', 'max_supply': '21000000.0', 'percent_change_1h': '0.39', 'percent_change_24h': '-7.58', 'percent_change_7d': '-9.23', 'last_updated': '1548730146'}, {'id': 'litecoin', 'name': 'Litecoin', 'symbol': 'LTC', 'rank': '7', 'price_usd': '31.0693644084', 'price_btc': '0.00897908', '24h_volume_usd': '796777478.28', 'market_cap_usd': '1871155183.0', 'available_supply': '60225087.0', 'total_supply': '60225087.0', 'max_supply': '84000000.0', 'percent_change_1h': '0.19', 'percent_change_24h': '-3.16', 'percent_change_7d': '-0.25', 'last_updated': '1548730148'}, {'id': 'tron', 'name': 'TRON', 'symbol': 'TRX', 'rank': '8', 'price_usd': '0.0270719473', 'price_btc': '0.00000782', '24h_volume_usd': '440547986.524', 'market_cap_usd': '1804676872.0', 'available_supply': '66662248202.0', 'total_supply': '99261459865.0', 'max_supply': None, 'percent_change_1h': '1.04', 'percent_change_24h': '-3.2', 'percent_change_7d': '4.89', 'last_updated': '1548730146'}, {'id': 'stellar', 'name': 'Stellar', 'symbol': 'XLM', 'rank': '9', 'price_usd': '0.0860517328', 'price_btc': '0.00002487', '24h_volume_usd': '139968410.853', 'market_cap_usd': '1649394098.0', 'available_supply': '19167471059.0', 'total_supply': '104682543032', 'max_supply': None, 'percent_change_1h': '-0.16', 'percent_change_24h': '-8.04', 'percent_change_7d': '-16.57', 'last_updated': '1548730144'}, {'id': 'bitcoin-sv', 'name': 'Bitcoin SV', 'symbol': 'BSV', 'rank': '10', 'price_usd': '64.1846760466', 'price_btc': '0.01854945', '24h_volume_usd': '80016291.2579', 'market_cap_usd': '1129065315.0', 'available_supply': '17590886.0', 'total_supply': '17590886.0', 'max_supply': '21000000.0', 'percent_change_1h': '-0.59', 'percent_change_24h': '-6.93', 'percent_change_7d': '-14.54', 'last_updated': '1548730149'}]\n",
      "id bitcoin\n",
      "name Bitcoin\n",
      "rank 1\n",
      "price_usd 3462.84340637\n",
      "2019-01-28 21:50:15.938739\n",
      "id ripple\n",
      "name XRP\n",
      "rank 2\n",
      "price_usd 0.2939907442\n",
      "2019-01-28 21:50:15.938739\n"
     ]
    },
    {
     "name": "stderr",
     "output_type": "stream",
     "text": [
      "C:\\Users\\17059\\Anaconda3\\lib\\site-packages\\pymysql\\cursors.py:170: Warning: (1366, \"Incorrect integer value: 'bitcoin' for column 'id' at row 1\")\n",
      "  result = self._query(query)\n",
      "C:\\Users\\17059\\Anaconda3\\lib\\site-packages\\pymysql\\cursors.py:170: Warning: (1366, \"Incorrect integer value: 'ripple' for column 'id' at row 1\")\n",
      "  result = self._query(query)\n"
     ]
    },
    {
     "name": "stdout",
     "output_type": "stream",
     "text": [
      "id ethereum\n",
      "name Ethereum\n",
      "rank 3\n",
      "price_usd 105.777221953\n",
      "2019-01-28 21:50:15.938739\n",
      "id tether\n",
      "name Tether\n",
      "rank 4\n",
      "price_usd 1.0103243777\n",
      "2019-01-28 21:50:15.938739\n"
     ]
    },
    {
     "name": "stderr",
     "output_type": "stream",
     "text": [
      "C:\\Users\\17059\\Anaconda3\\lib\\site-packages\\pymysql\\cursors.py:170: Warning: (1366, \"Incorrect integer value: 'ethereum' for column 'id' at row 1\")\n",
      "  result = self._query(query)\n",
      "C:\\Users\\17059\\Anaconda3\\lib\\site-packages\\pymysql\\cursors.py:170: Warning: (1366, \"Incorrect integer value: 'tether' for column 'id' at row 1\")\n",
      "  result = self._query(query)\n"
     ]
    },
    {
     "name": "stdout",
     "output_type": "stream",
     "text": [
      "id eos\n",
      "name EOS\n",
      "rank 5\n",
      "price_usd 2.2526526725\n",
      "2019-01-28 21:50:15.938739\n",
      "id bitcoin-cash\n",
      "name Bitcoin Cash\n",
      "rank 6\n",
      "price_usd 111.109788469\n",
      "2019-01-28 21:50:15.938739\n"
     ]
    },
    {
     "name": "stderr",
     "output_type": "stream",
     "text": [
      "C:\\Users\\17059\\Anaconda3\\lib\\site-packages\\pymysql\\cursors.py:170: Warning: (1366, \"Incorrect integer value: 'eos' for column 'id' at row 1\")\n",
      "  result = self._query(query)\n",
      "C:\\Users\\17059\\Anaconda3\\lib\\site-packages\\pymysql\\cursors.py:170: Warning: (1366, \"Incorrect integer value: 'bitcoin-cash' for column 'id' at row 1\")\n",
      "  result = self._query(query)\n"
     ]
    },
    {
     "name": "stdout",
     "output_type": "stream",
     "text": [
      "id litecoin\n",
      "name Litecoin\n",
      "rank 7\n",
      "price_usd 31.0693644084\n",
      "2019-01-28 21:50:15.938739\n",
      "id tron\n",
      "name TRON\n",
      "rank 8\n",
      "price_usd 0.0270719473\n",
      "2019-01-28 21:50:15.938739\n"
     ]
    },
    {
     "name": "stderr",
     "output_type": "stream",
     "text": [
      "C:\\Users\\17059\\Anaconda3\\lib\\site-packages\\pymysql\\cursors.py:170: Warning: (1366, \"Incorrect integer value: 'litecoin' for column 'id' at row 1\")\n",
      "  result = self._query(query)\n",
      "C:\\Users\\17059\\Anaconda3\\lib\\site-packages\\pymysql\\cursors.py:170: Warning: (1366, \"Incorrect integer value: 'tron' for column 'id' at row 1\")\n",
      "  result = self._query(query)\n"
     ]
    },
    {
     "name": "stdout",
     "output_type": "stream",
     "text": [
      "id stellar\n",
      "name Stellar\n",
      "rank 9\n",
      "price_usd 0.0860517328\n",
      "2019-01-28 21:50:15.938739\n",
      "id bitcoin-sv\n",
      "name Bitcoin SV\n",
      "rank 10\n",
      "price_usd 64.1846760466\n",
      "2019-01-28 21:50:15.938739\n"
     ]
    },
    {
     "name": "stderr",
     "output_type": "stream",
     "text": [
      "C:\\Users\\17059\\Anaconda3\\lib\\site-packages\\pymysql\\cursors.py:170: Warning: (1366, \"Incorrect integer value: 'stellar' for column 'id' at row 1\")\n",
      "  result = self._query(query)\n",
      "C:\\Users\\17059\\Anaconda3\\lib\\site-packages\\pymysql\\cursors.py:170: Warning: (1366, \"Incorrect integer value: 'bitcoin-sv' for column 'id' at row 1\")\n",
      "  result = self._query(query)\n"
     ]
    }
   ],
   "source": [
    "#import the required libraries\n",
    "import urllib.request\n",
    "import json\n",
    "import requests\n",
    "import pymysql\n",
    "import datetime\n",
    "\n",
    "#Connect to MySQL database\n",
    "con=pymysql.connect(host='data.cep8edprhf64.us-east-1.rds.amazonaws.com', user='dias_r', passwd='dIAs_777',db='data');\n",
    "cursor=con.cursor()\n",
    "url='https://api.coinmarketcap.com/v1/ticker/?limit=10'; #API url\n",
    "\n",
    "response=urllib.request.urlopen(url).read() #connecting to API url to get response\n",
    "\n",
    "#create json object\n",
    "json_obj=json.loads(response.decode('utf-8'))\n",
    "print(json_obj)\n",
    "now=datetime.datetime.now()\n",
    "\n",
    "#Loop through json object and insert top 10 cryptocurrencies\n",
    "for l in range(0,10):\n",
    "    print(\"id\",json_obj[l]['id'])\n",
    "    print(\"name\",json_obj[l]['name'])\n",
    "    print(\"rank\",json_obj[l]['rank'])\n",
    "    print(\"price_usd\",json_obj[l]['price_usd'])\n",
    "    print(now);\n",
    "    #insert data into MySQL database\n",
    "    cursor.execute(\"INSERT INTO crypto (id, name, rank, price_usd, date_time) VALUES (%s,%s,%s,%s,%s)\",\n",
    "                   (json_obj[l]['id'],json_obj[l]['name'],json_obj[l]['rank'],json_obj[l]['price_usd'],now))\n",
    "\n",
    "#Commit data\n",
    "    con.commit()\n",
    "con.close()"
   ]
  },
  {
   "cell_type": "code",
   "execution_count": null,
   "metadata": {},
   "outputs": [],
   "source": []
  }
 ],
 "metadata": {
  "kernelspec": {
   "display_name": "Python 3",
   "language": "python",
   "name": "python3"
  },
  "language_info": {
   "codemirror_mode": {
    "name": "ipython",
    "version": 3
   },
   "file_extension": ".py",
   "mimetype": "text/x-python",
   "name": "python",
   "nbconvert_exporter": "python",
   "pygments_lexer": "ipython3",
   "version": "3.7.1"
  }
 },
 "nbformat": 4,
 "nbformat_minor": 2
}

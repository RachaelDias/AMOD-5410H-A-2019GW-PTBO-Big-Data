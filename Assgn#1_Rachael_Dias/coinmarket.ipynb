{
 "cells": [
  {
   "cell_type": "code",
   "execution_count": null,
   "metadata": {},
   "outputs": [],
   "source": [
    "#import the required libraries\n",
    "import urllib.request\n",
    "import json\n",
    "import requests\n",
    "import pymysql\n",
    "import datetime\n",
    "\n",
    "#Connect to MySQL database\n",
    "con=pymysql.connect(host='data.cep8edprhf64.us-east-1.rds.amazonaws.com', user='dias_r', passwd='dIAs_777',db='data');\n",
    "cursor=con.cursor()\n",
    "url='https://api.coinmarketcap.com/v1/ticker/?limit=10'; #API url\n",
    "\n",
    "response=urllib.request.urlopen(url).read() #connecting to API url to get response\n",
    "\n",
    "#create json object\n",
    "json_obj=json.loads(response.decode('utf-8'))\n",
    "print(json_obj)\n",
    "now=datetime.datetime.now()\n",
    "\n",
    "#Loop through json object and insert top 10 cryptocurrencies\n",
    "for l in range(0,10):\n",
    "    print(\"id\",json_obj[l]['id'])\n",
    "    print(\"name\",json_obj[l]['name'])\n",
    "    print(\"rank\",json_obj[l]['rank'])\n",
    "    print(\"price_usd\",json_obj[l]['price_usd'])\n",
    "    print(now);\n",
    "    #insert data into MySQL database\n",
    "    cursor.execute(\"INSERT INTO crypto (id, name, rank, price_usd, date_time) VALUES (%s,%s,%s,%s,%s)\",\n",
    "                   (json_obj[l]['id'],json_obj[l]['name'],json_obj[l]['rank'],json_obj[l]['price_usd'],now))\n",
    "\n",
    "#Commit data\n",
    "    con.commit()\n",
    "con.close()"
   ]
  }
 ],
 "metadata": {
  "kernelspec": {
   "display_name": "Python 3",
   "language": "python",
   "name": "python3"
  },
  "language_info": {
   "codemirror_mode": {
    "name": "ipython",
    "version": 3
   },
   "file_extension": ".py",
   "mimetype": "text/x-python",
   "name": "python",
   "nbconvert_exporter": "python",
   "pygments_lexer": "ipython3",
   "version": "3.7.1"
  }
 },
 "nbformat": 4,
 "nbformat_minor": 2
}

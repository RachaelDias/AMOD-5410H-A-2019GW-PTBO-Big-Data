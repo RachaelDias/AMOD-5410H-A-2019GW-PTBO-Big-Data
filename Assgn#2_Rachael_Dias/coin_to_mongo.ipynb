{
 "cells": [
  {
   "cell_type": "code",
   "execution_count": 3,
   "metadata": {},
   "outputs": [
    {
     "data": {
      "text/plain": [
       "<pymongo.results.InsertManyResult at 0x27821a92ec8>"
      ]
     },
     "execution_count": 3,
     "metadata": {},
     "output_type": "execute_result"
    }
   ],
   "source": [
    "#import the required libraries\n",
    "import urllib.request\n",
    "import json\n",
    "import requests\n",
    "import pymongo\n",
    "import datetime\n",
    "\n",
    "#Connect to MySQL database\n",
    "conn = pymongo.MongoClient()\n",
    "db = conn.mongodb\n",
    "coin = db.coincoll\n",
    "url='https://api.coinmarketcap.com/v1/ticker/?limit=100'; #API url\n",
    "\n",
    "response=urllib.request.urlopen(url).read() #connecting to API url to get response\n",
    "\n",
    "#create json object\n",
    "json_obj=json.loads(response)\n",
    "db.coin.insert_many(json_obj)\n"
   ]
  },
  {
   "cell_type": "code",
   "execution_count": null,
   "metadata": {},
   "outputs": [],
   "source": []
  }
 ],
 "metadata": {
  "kernelspec": {
   "display_name": "Python 3",
   "language": "python",
   "name": "python3"
  },
  "language_info": {
   "codemirror_mode": {
    "name": "ipython",
    "version": 3
   },
   "file_extension": ".py",
   "mimetype": "text/x-python",
   "name": "python",
   "nbconvert_exporter": "python",
   "pygments_lexer": "ipython3",
   "version": "3.7.1"
  }
 },
 "nbformat": 4,
 "nbformat_minor": 2
}

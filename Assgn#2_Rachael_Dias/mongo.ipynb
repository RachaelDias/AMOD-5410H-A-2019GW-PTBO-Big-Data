{
 "cells": [
  {
   "cell_type": "code",
   "execution_count": null,
   "metadata": {},
   "outputs": [],
   "source": [
    "import pymongo\n",
    "\n",
    "myclient = pymongo.MongoClient(\"mongodb://localhost:27017/\")\n",
    "mydb = myclient[\"mongodb\"]\n",
    "mycol = mydb[\"tweets\"]\n",
    "\n",
    "#searching for keyword Bitcoin\n",
    "myquery={\"text\": {'$regex':'Bitcoin','$options':'$i'}}\n",
    "\n",
    "mydoc = mycol.find(myquery)\n",
    "\n",
    "#printing all the information related to tweets that contain the word bitcoin\n",
    "for x in mydoc:\n",
    "    print(x)"
   ]
  },
  {
   "cell_type": "code",
   "execution_count": null,
   "metadata": {},
   "outputs": [],
   "source": [
    "#searching for keyword Bitcoin\n",
    "myquery={\"text\": {'$regex':'Bitcoin','$options':'$i'}}\n",
    "\n",
    "mydoc = mycol.find(myquery)\n",
    "\n",
    "#printing the username, created_at and text column\n",
    "for x in mydoc:\n",
    "    print(x['user']['name'],x['created_at'],x['text'])"
   ]
  },
  {
   "cell_type": "code",
   "execution_count": null,
   "metadata": {},
   "outputs": [],
   "source": [
    "#searching for alternative words of keyword\n",
    "myquery = {'$or':[{\"text\": {'$regex':'tron','$options':'$i'}},{\"text\": {'$regex':'trx','$options':'$i'}}]}\n",
    "mydoc = mycol.find(myquery)\n",
    "\n",
    "#printing only the username, created_at and text column of the tweets\n",
    "for x in mydoc:\n",
    "    print(x['user']['name'],x['created_at'],x['text'])"
   ]
  },
  {
   "cell_type": "code",
   "execution_count": null,
   "metadata": {},
   "outputs": [],
   "source": [
    "mydoc=mycol.find()\n",
    "#count of total number of documents\n",
    "count = mydoc.count()\n",
    "print(count)"
   ]
  },
  {
   "cell_type": "code",
   "execution_count": null,
   "metadata": {},
   "outputs": [],
   "source": [
    "#searching for keyword Bitcoin\n",
    "myquery={\"text\": {'$regex':'Bitcoin','$options':'$i'}}\n",
    "mydoc=mycol.find(myquery)\n",
    "#count of number of documents containing the word bitcoin\n",
    "count = mydoc.count()\n",
    "print(count)"
   ]
  },
  {
   "cell_type": "code",
   "execution_count": null,
   "metadata": {},
   "outputs": [],
   "source": [
    "#grouping the tweets based on username and finding the number of tweets per user\n",
    "list(mycol.aggregate([{\"$group\":{\"_id\": \"$user.name\",\"count\": {\"$sum\": 1}}}]))"
   ]
  },
  {
   "cell_type": "code",
   "execution_count": null,
   "metadata": {},
   "outputs": [],
   "source": [
    "#searching for keyword ripple\n",
    "myquery={\"text\": {'$regex':'ripple','$options':'$i'}}\n",
    "\n",
    "#ordering the tweets based on the time they were created\n",
    "mydoc=mycol.find(myquery)\n",
    "order = mydoc.sort(\"created_at\")\n",
    "\n",
    "for i in order:\n",
    "    print(i['user']['name'],i['text'])"
   ]
  },
  {
   "cell_type": "code",
   "execution_count": null,
   "metadata": {},
   "outputs": [],
   "source": [
    "import pymongo\n",
    "\n",
    "myclient = pymongo.MongoClient(\"mongodb://localhost:27017/\")\n",
    "mydb = myclient[\"mongodb\"]\n",
    "mycol2 = mydb[\"coin\"]\n",
    "\n",
    "#searching for keyword ripple\n",
    "myquery2={\"name\": {'$regex':'xrp','$options':'$i'}}\n",
    "\n",
    "mydoc2 = mycol2.find(myquery2)\n",
    "\n",
    "#printing coinmarketcap data\n",
    "for x in mydoc2:\n",
    "    print(x)"
   ]
  },
  {
   "cell_type": "code",
   "execution_count": null,
   "metadata": {},
   "outputs": [],
   "source": [
    "#searching for alternative words of keyword\n",
    "\n",
    "myquery = {'$or':[{\"name\": {'$regex':'XRP'}},{\"text\": {'$regex':'xrp'}}]}\n",
    "mydoc2 = mycol2.find(myquery)\n",
    "\n",
    "#printing data for Ripple\n",
    "for x in mydoc2:\n",
    "    print(x)"
   ]
  },
  {
   "cell_type": "code",
   "execution_count": null,
   "metadata": {},
   "outputs": [],
   "source": [
    "#searching for keyword Bitcoin\n",
    "myquery={\"id\": 'bitcoin'}\n",
    "mydoc=mycol2.find(myquery)\n",
    "#count of number of documents containing the word bitcoin\n",
    "count = mydoc.count()\n",
    "print(count)"
   ]
  },
  {
   "cell_type": "code",
   "execution_count": null,
   "metadata": {},
   "outputs": [],
   "source": [
    "#grouping the currencies based on id\n",
    "list(mycol2.aggregate([{\"$group\":{\"_id\": \"$id\",\"count\": {\"$sum\": 1}}}]))"
   ]
  },
  {
   "cell_type": "code",
   "execution_count": null,
   "metadata": {},
   "outputs": [],
   "source": [
    "#ordering the crypto in alphabetical order\n",
    "mydoc2=mycol2.find()\n",
    "order = mydoc2.sort(\"name\")\n",
    "\n",
    "for i in order:\n",
    "    print(i['name'])"
   ]
  },
  {
   "cell_type": "code",
   "execution_count": null,
   "metadata": {},
   "outputs": [],
   "source": []
  }
 ],
 "metadata": {
  "kernelspec": {
   "display_name": "Python 3",
   "language": "python",
   "name": "python3"
  },
  "language_info": {
   "codemirror_mode": {
    "name": "ipython",
    "version": 3
   },
   "file_extension": ".py",
   "mimetype": "text/x-python",
   "name": "python",
   "nbconvert_exporter": "python",
   "pygments_lexer": "ipython3",
   "version": "3.7.1"
  }
 },
 "nbformat": 4,
 "nbformat_minor": 2
}

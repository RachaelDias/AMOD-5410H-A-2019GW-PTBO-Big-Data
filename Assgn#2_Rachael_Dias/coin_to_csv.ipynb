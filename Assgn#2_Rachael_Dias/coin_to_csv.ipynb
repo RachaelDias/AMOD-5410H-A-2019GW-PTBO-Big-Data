{
 "cells": [
  {
   "cell_type": "code",
   "execution_count": 1,
   "metadata": {},
   "outputs": [],
   "source": [
    "#import the required libraries\n",
    "import urllib.request\n",
    "import json\n",
    "import requests\n",
    "import pandas\n",
    "import datetime\n",
    "\n",
    "#Connect to MySQL database\n",
    "url='https://api.coinmarketcap.com/v1/ticker/?limit=100'; #API url\n",
    "response=urllib.request.urlopen(url).read()\n",
    "\n",
    "#convert json to pandas dataframe\n",
    "df=pandas.read_json(response)\n",
    "\n",
    "#write the data stored on the dataframe to a csv file\n",
    "df.to_csv('coin_data.csv')"
   ]
  },
  {
   "cell_type": "code",
   "execution_count": 2,
   "metadata": {},
   "outputs": [
    {
     "data": {
      "text/plain": [
       "bytes"
      ]
     },
     "execution_count": 2,
     "metadata": {},
     "output_type": "execute_result"
    }
   ],
   "source": [
    "type(response)"
   ]
  }
 ],
 "metadata": {
  "kernelspec": {
   "display_name": "Python 3",
   "language": "python",
   "name": "python3"
  },
  "language_info": {
   "codemirror_mode": {
    "name": "ipython",
    "version": 3
   },
   "file_extension": ".py",
   "mimetype": "text/x-python",
   "name": "python",
   "nbconvert_exporter": "python",
   "pygments_lexer": "ipython3",
   "version": "3.7.1"
  }
 },
 "nbformat": 4,
 "nbformat_minor": 2
}

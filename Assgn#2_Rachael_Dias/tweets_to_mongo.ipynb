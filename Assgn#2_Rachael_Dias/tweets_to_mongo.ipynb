{
 "cells": [
  {
   "cell_type": "code",
   "execution_count": null,
   "metadata": {},
   "outputs": [],
   "source": [
    "# Import libraries\n",
    "import json\n",
    "import pymongo\n",
    "import tweepy\n",
    "\n",
    "# Setting the variables and will be used in the stream listener.\n",
    "consumer_key = \"oO7yjGF0DOx4U4OlbeEy2xirm\"\n",
    "consumer_secret = \"AHp8XYwqwqvRyclgM0EaC6FXzQ9R0uN8L3RzmQUQgnvq6VMwjN\"\n",
    "access_key = \"1064669303230861312-XM3VQPT6QycJEPJ1mZB0fDvKdmHoTB\"\n",
    "access_secret = \"KC6SBkblOXJnulVAIvKwLmzurHXnJq9KW3LKlvYJMZLes\"\n",
    "\n",
    "WORDS=['#bitcoin','#XRP','#ripple','#ethereum','#BitcoinCash','#EOS','#tether','#litecoin','#stellar','#TRON','#bitcoin SV','Cardano','binance','#Monero', '#DASH']\n",
    "\n",
    "# creating an OAuthHandler instance. Into this we pass our consumer token and secret.\n",
    "auth = tweepy.OAuthHandler(consumer_key, consumer_secret)\n",
    "# Set access token\n",
    "auth.set_access_token(access_key, access_secret)\n",
    "# Construct the API instance\n",
    "api = tweepy.API(auth)\n",
    "\n",
    "class CustomStreamListener(tweepy.StreamListener):\n",
    "    \"\"\"\n",
    "    tweepy.StreamListener is a class provided by tweepy used to access the Twitter \n",
    "    Streaming API. It allows us to retrieve tweets in real time.\n",
    "    \"\"\"\n",
    "    def __init__(self, api):\n",
    "        self.api = api\n",
    "        super(tweepy.StreamListener, self).__init__()\n",
    "        \n",
    "        # Connecting to MongoDB and use the database twitter.\n",
    "        self.db = pymongo.MongoClient().mongodb\n",
    " \n",
    "    def on_data(self, tweet):\n",
    "        self.db.tweets.insert_one(json.loads(tweet))\n",
    " \n",
    "    def on_error(self, status_code):\n",
    "        # This is called when an error occurs\n",
    "        print >> sys.stderr, 'Encountered error with status code:', status_code\n",
    "        return True # Don't kill the stream\n",
    " \n",
    "    def on_timeout(self):\n",
    "        # This is called if there is a timeout\n",
    "        print >> sys.stderr, 'Timeout.....'\n",
    "        return True # Don't kill the stream\n",
    "\n",
    "# Create our stream object\n",
    "sapi = tweepy.streaming.Stream(auth, CustomStreamListener(api))\n",
    "sapi.filter(track=WORDS, languages=[\"en\"])"
   ]
  },
  {
   "cell_type": "code",
   "execution_count": 2,
   "metadata": {},
   "outputs": [
    {
     "data": {
      "text/plain": [
       "list"
      ]
     },
     "execution_count": 2,
     "metadata": {},
     "output_type": "execute_result"
    }
   ],
   "source": [
    "type(WORDS)"
   ]
  },
  {
   "cell_type": "code",
   "execution_count": null,
   "metadata": {},
   "outputs": [],
   "source": []
  }
 ],
 "metadata": {
  "kernelspec": {
   "display_name": "Python 3",
   "language": "python",
   "name": "python3"
  },
  "language_info": {
   "codemirror_mode": {
    "name": "ipython",
    "version": 3
   },
   "file_extension": ".py",
   "mimetype": "text/x-python",
   "name": "python",
   "nbconvert_exporter": "python",
   "pygments_lexer": "ipython3",
   "version": "3.7.1"
  }
 },
 "nbformat": 4,
 "nbformat_minor": 2
}

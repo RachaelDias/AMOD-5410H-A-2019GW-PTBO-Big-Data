{
 "cells": [
  {
   "cell_type": "code",
   "execution_count": null,
   "metadata": {},
   "outputs": [],
   "source": [
    "#connect to cassandra\n",
    "from cassandra.cluster import Cluster\n",
    "cluster = Cluster()\n",
    "session = cluster.connect('cassandra')\n",
    "\n",
    "#Keyword search using the LIKE operator in cassandra\n",
    "#where text like '%bitocin%' \n",
    "rows=session.execute(\"select * from tweets1 where text like '%bitcoin%'\")\n",
    "for user_row in rows:\n",
    "    print (user_row.text)"
   ]
  },
  {
   "cell_type": "code",
   "execution_count": null,
   "metadata": {},
   "outputs": [],
   "source": [
    "#searching for alternative forms of the same keyword bitcoin, bit, btc \n",
    "rows=session.execute(\"select * from tweets1 where text like '%bitcoin%'\")\n",
    "rows1=session.execute(\"select * from tweets1 where text like '%bit%'\")\n",
    "rows2=session.execute(\"select * from tweets1 where text like '%btc%'\")\n",
    "for user_row in rows:\n",
    "    print (user_row.text)\n",
    "for user_row in rows1:\n",
    "    print (user_row.text)\n",
    "for user_row in rows2:\n",
    "    print (user_row.text)"
   ]
  },
  {
   "cell_type": "code",
   "execution_count": null,
   "metadata": {},
   "outputs": [],
   "source": [
    "#counting total number of tweets\n",
    "rows=session.execute(\"select count(*) from tweets1\")\n",
    "for user_row in rows:\n",
    "    print (user_row)"
   ]
  },
  {
   "cell_type": "code",
   "execution_count": null,
   "metadata": {},
   "outputs": [],
   "source": [
    "#counting total number of tweets containing the term bitcoin\n",
    "rows=session.execute(\"select count(*) from tweets1 where text like '%bitcoin%'\")\n",
    "for user_row in rows:\n",
    "    print (user_row)"
   ]
  },
  {
   "cell_type": "code",
   "execution_count": null,
   "metadata": {},
   "outputs": [],
   "source": [
    "#connect to cassandra\n",
    "from cassandra.cluster import Cluster\n",
    "cluster = Cluster()\n",
    "session = cluster.connect('cassandra')\n",
    "\n",
    "#Keyword search using the LIKE operator in cassandra for coinmarketcap\n",
    "#where text like '%bitocin%' \n",
    "rows=session.execute(\"select * from coin1 where name like '%bitcoin%'\")\n",
    "for user_row in rows:\n",
    "    print (user_row.name)"
   ]
  },
  {
   "cell_type": "code",
   "execution_count": null,
   "metadata": {},
   "outputs": [],
   "source": [
    "#searching for alternate forms of the same keyword\n",
    "rows=session.execute(\"select * from coin1 where ID in ('bitcoin-sv','bitcoin-cash','bitcoin','bitcoin-diamond','bitcoin-gold')\")\n",
    "for user_row in rows:\n",
    "    print (user_row.name)"
   ]
  },
  {
   "cell_type": "code",
   "execution_count": null,
   "metadata": {},
   "outputs": [],
   "source": [
    "#counting total number of records\n",
    "rows=session.execute(\"select count(*) from coin1\")\n",
    "for user_row in rows:\n",
    "    print (user_row)"
   ]
  },
  {
   "cell_type": "code",
   "execution_count": null,
   "metadata": {},
   "outputs": [],
   "source": [
    "#counting records that have the word bitcoin\n",
    "#where text like '%bitocin%' \n",
    "rows=session.execute(\"select count(*) from coin1 where name like '%bitcoin%'\")\n",
    "for user_row in rows:\n",
    "    print (user_row)"
   ]
  },
  {
   "cell_type": "code",
   "execution_count": null,
   "metadata": {},
   "outputs": [],
   "source": [
    "#finding the rank of the currency binance-coin\n",
    "rows=session.execute(\"select * from coin2 where id='binance-coin' order by rank asc\")\n",
    "for user_row in rows:\n",
    "    print (user_row.rank)"
   ]
  },
  {
   "cell_type": "code",
   "execution_count": null,
   "metadata": {},
   "outputs": [],
   "source": [
    "#ordering the queries by created_at time for user \"iotworkers\"\n",
    "rows=session.execute(\"select * from tweets2 where name='iotworkers' order by created_at asc\")\n",
    "for user_row in rows:\n",
    "    print (user_row.name, user_row.created_at)"
   ]
  },
  {
   "cell_type": "code",
   "execution_count": null,
   "metadata": {},
   "outputs": [],
   "source": []
  }
 ],
 "metadata": {
  "kernelspec": {
   "display_name": "Python 3",
   "language": "python",
   "name": "python3"
  },
  "language_info": {
   "codemirror_mode": {
    "name": "ipython",
    "version": 3
   },
   "file_extension": ".py",
   "mimetype": "text/x-python",
   "name": "python",
   "nbconvert_exporter": "python",
   "pygments_lexer": "ipython3",
   "version": "3.7.1"
  }
 },
 "nbformat": 4,
 "nbformat_minor": 2
}
